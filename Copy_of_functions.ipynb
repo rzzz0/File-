{
  "nbformat": 4,
  "nbformat_minor": 0,
  "metadata": {
    "colab": {
      "provenance": [],
      "include_colab_link": true
    },
    "kernelspec": {
      "name": "python3",
      "display_name": "Python 3"
    },
    "language_info": {
      "name": "python"
    }
  },
  "cells": [
    {
      "cell_type": "markdown",
      "metadata": {
        "id": "view-in-github",
        "colab_type": "text"
      },
      "source": [
        "<a href=\"https://colab.research.google.com/github/rzzz0/File-/blob/main/Copy_of_functions.ipynb\" target=\"_parent\"><img src=\"https://colab.research.google.com/assets/colab-badge.svg\" alt=\"Open In Colab\"/></a>"
      ]
    },
    {
      "cell_type": "markdown",
      "source": [
        "### **Introduction to Functions**\n",
        "\n",
        "In programming, a function is a self-contained block of code that encapsulates a specific task or related group of tasks. Functions are essential for breaking down complex tasks into smaller, more manageable parts.\n",
        "\n",
        "Advantages of using functions:\n",
        "- **Modularity:** Break down complex tasks into smaller, reusable chunks.\n",
        "- **Reusability:** Write once, use multiple times.\n",
        "- **Maintainability:** Easier to fix issues in one centralized location.\n",
        "- **Abstraction:** Hide complex implementation details, presenting a simple interface.\n",
        "\n",
        "---\n",
        "\n",
        "### **Defining and Calling Functions**\n",
        "\n",
        "**1. Defining a Function:**\n",
        "\n",
        "Use the `def` keyword followed by a function name, parentheses, and a colon. The code block within every function is indented.\n",
        "\n",
        "```python\n",
        "def greet():\n",
        "    print(\"Hello, World!\")\n",
        "```\n",
        "\n",
        "**2. Calling a Function:**\n",
        "\n",
        "To execute the function's code, use the function name followed by parentheses.\n",
        "\n",
        "```python\n",
        "greet()  # This will print \"Hello, World!\"\n",
        "```\n",
        "\n",
        "---\n",
        "\n",
        "### **Parameters and Return Values**\n",
        "\n",
        "**1. Parameters:**\n",
        "\n",
        "Functions can take inputs, known as parameters, to process and potentially use in its task.\n",
        "\n",
        "```python\n",
        "def greet(name):\n",
        "    print(f\"Hello, {name}!\")\n",
        "```\n",
        "\n",
        "**2. Return Values:**\n",
        "\n",
        "Functions can also return results to the caller using the `return` keyword. If no return statement is provided, the function will return `None` by default.\n",
        "\n",
        "```python\n",
        "def add(a, b):\n",
        "    return a + b\n",
        "```\n",
        "\n",
        "---"
      ],
      "metadata": {
        "id": "9G7BXlQXQQ9X"
      }
    },
    {
      "cell_type": "markdown",
      "source": [
        "### **Practice Exercises:**\n",
        "\n",
        "1. **Hello Name:**\n",
        "   - Define a function that takes a name as a parameter and prints \"Hello, [Name]!\".\n",
        "   \n"
      ],
      "metadata": {
        "id": "tBNd71f_yRYF"
      }
    },
    {
      "cell_type": "code",
      "source": [
        "#ex1\n",
        "\n",
        "def greet(name):\n",
        "  print(f\"hello, {name}\")\n",
        "\n",
        "greet(\"rudy\")"
      ],
      "metadata": {
        "id": "8lYZuO2CyUqd",
        "colab": {
          "base_uri": "https://localhost:8080/"
        },
        "outputId": "fb1e702d-9558-4f83-beae-1c0f570f5f3b"
      },
      "execution_count": null,
      "outputs": [
        {
          "output_type": "stream",
          "name": "stdout",
          "text": [
            "hello, rudy\n"
          ]
        }
      ]
    },
    {
      "cell_type": "markdown",
      "source": [
        "2. **Area of a Circle:**\n",
        "   - Define a function that calculates the area of a circle given its radius.\n",
        "\n"
      ],
      "metadata": {
        "id": "c58v6-epyVNf"
      }
    },
    {
      "cell_type": "code",
      "source": [
        "#ex2\n",
        "\n",
        "def circle(r):\n",
        "  print(\"the area of the circle is\", 3.14 * r * r)\n",
        "\n",
        "circle(8)\n"
      ],
      "metadata": {
        "id": "DHoK_BaVyfgL",
        "colab": {
          "base_uri": "https://localhost:8080/"
        },
        "outputId": "750132ef-75d2-4deb-e562-a31fbae2dbba"
      },
      "execution_count": null,
      "outputs": [
        {
          "output_type": "stream",
          "name": "stdout",
          "text": [
            "the area of the circle is 200.96\n"
          ]
        }
      ]
    },
    {
      "cell_type": "markdown",
      "source": [
        "3. **String Reverser:**\n",
        "   - Write a function that returns the reverse of a given string.\n",
        "\n"
      ],
      "metadata": {
        "id": "wUDhG3X5yiJW"
      }
    },
    {
      "cell_type": "code",
      "source": [
        "# #ex3\n",
        "def reverse(word):\n",
        "  w = \"\"\n",
        "  for i in range(len(word)-1, -1, -1):\n",
        "    w += word[i]\n",
        "  return w\n",
        "\n",
        "reverse(\"word\")\n",
        "\n",
        "\n",
        "\n"
      ],
      "metadata": {
        "id": "f7I9hlbSykBG",
        "colab": {
          "base_uri": "https://localhost:8080/",
          "height": 35
        },
        "outputId": "29bf6fed-5a48-40ab-b41e-5db60ddf896a"
      },
      "execution_count": 75,
      "outputs": [
        {
          "output_type": "execute_result",
          "data": {
            "text/plain": [
              "'drow'"
            ],
            "application/vnd.google.colaboratory.intrinsic+json": {
              "type": "string"
            }
          },
          "metadata": {},
          "execution_count": 75
        }
      ]
    },
    {
      "cell_type": "markdown",
      "source": [
        "4. **List Multiplier:**\n",
        "   - Write a function that takes a list and a number as parameters. The function should return a new list where each element is multiplied by the number.\n",
        "\n"
      ],
      "metadata": {
        "id": "Z7trQ7wCyluv"
      }
    },
    {
      "cell_type": "code",
      "source": [
        "#ex4\n",
        "def multiply(input_list, multiplier):\n",
        "  i = 0\n",
        "  for item in input_list:\n",
        "    input_list[i] *= multiplier\n",
        "    i += 1\n",
        "  return input_list\n",
        "\n",
        "\n",
        "new_list = multiply([1, 2, 3, 4, 5], 2)\n",
        "print(new_list)\n",
        "\n",
        "\n",
        "\n"
      ],
      "metadata": {
        "id": "QcK55imVynU8",
        "colab": {
          "base_uri": "https://localhost:8080/"
        },
        "outputId": "45438af1-96ec-4cf4-e93c-f3d3af51cdfe"
      },
      "execution_count": null,
      "outputs": [
        {
          "output_type": "stream",
          "name": "stdout",
          "text": [
            "[2, 4, 6, 8, 10]\n"
          ]
        }
      ]
    },
    {
      "cell_type": "markdown",
      "source": [
        "5. **Prime Checker:**\n",
        "   - Create a function that checks if a number is prime. If prime, it should return `True`, otherwise `False`.\n",
        "\n"
      ],
      "metadata": {
        "id": "cIZyRI10yogs"
      }
    },
    {
      "cell_type": "code",
      "source": [
        "#ex5\n",
        "def check(num):\n",
        "  if num % 2 == 0:\n",
        "    print(\"false\")\n",
        "  else:\n",
        "    print(\"true\")\n",
        "\n",
        "check(1)"
      ],
      "metadata": {
        "id": "6bs6XxzSyprq",
        "colab": {
          "base_uri": "https://localhost:8080/"
        },
        "outputId": "c0264e85-4a7b-447c-c96e-65d13759803d"
      },
      "execution_count": null,
      "outputs": [
        {
          "output_type": "stream",
          "name": "stdout",
          "text": [
            "true\n"
          ]
        }
      ]
    },
    {
      "cell_type": "markdown",
      "source": [
        "6. **Factorial Calculator:**\n",
        "   - Write a function that calculates the factorial of a number.\n",
        "\n"
      ],
      "metadata": {
        "id": "-g_xki8tyrjp"
      }
    },
    {
      "cell_type": "code",
      "source": [
        "#ex6\n",
        "num = int(input(\"enter a number: \"))\n",
        "def fact(num):\n",
        "  total = 1\n",
        "  for i in range(1, num+1, 1):\n",
        "    total *= i\n",
        "    print(total)\n",
        "\n",
        "fact(num)\n",
        "\n",
        "\n"
      ],
      "metadata": {
        "id": "y3dO2HWdyswx",
        "colab": {
          "base_uri": "https://localhost:8080/"
        },
        "outputId": "46862b52-c8cd-45f0-b5c8-56cd32f01dcf"
      },
      "execution_count": null,
      "outputs": [
        {
          "output_type": "stream",
          "name": "stdout",
          "text": [
            "enter a number: 3\n",
            "1\n",
            "2\n",
            "6\n"
          ]
        }
      ]
    },
    {
      "cell_type": "markdown",
      "source": [
        "7. **Age in Dog Years:**\n",
        "   - Define a function that converts human years to dog years (1 human year = 7 dog years).\n",
        "\n"
      ],
      "metadata": {
        "id": "6XrVk9wzywM2"
      }
    },
    {
      "cell_type": "code",
      "source": [
        "#ex7\n",
        "human = int(input(\"how many human year: \"))\n",
        "def convert(human):\n",
        "  dog = human * 7\n",
        "  print(human, \"years = \", dog, \"dog years\")\n",
        "\n",
        "convert(human)\n"
      ],
      "metadata": {
        "id": "Uplmvk7Syxno",
        "colab": {
          "base_uri": "https://localhost:8080/"
        },
        "outputId": "8f69858e-7213-46e3-fbe6-4589a7ee1931"
      },
      "execution_count": null,
      "outputs": [
        {
          "output_type": "stream",
          "name": "stdout",
          "text": [
            "how many human year: 7\n",
            "7 years =  49 dog years\n"
          ]
        }
      ]
    },
    {
      "cell_type": "markdown",
      "source": [
        "8. **Temperature Converter:**\n",
        "   - Create a function that converts Celsius to Fahrenheit.\n",
        "\n"
      ],
      "metadata": {
        "id": "yzhpfw4Syzdc"
      }
    },
    {
      "cell_type": "code",
      "source": [
        "#ex8\n",
        "celsius = float(input(\"celsius: \"))\n",
        "def convert(celsius):\n",
        "  fah = (celsius * 9/5 + 32)\n",
        "  print(celsius, \"celsius is equal to \", fah, \"Fahrenheit. \")\n",
        "convert(celsius)"
      ],
      "metadata": {
        "id": "v-7DVKBWy0yK",
        "colab": {
          "base_uri": "https://localhost:8080/"
        },
        "outputId": "83e48444-1782-4be5-b456-8cc5ebd6f8b8"
      },
      "execution_count": null,
      "outputs": [
        {
          "output_type": "stream",
          "name": "stdout",
          "text": [
            "celsius: 34.6\n",
            "34.6 celsius is equal to  94.28 Fahrenheit. \n"
          ]
        }
      ]
    },
    {
      "cell_type": "markdown",
      "source": [
        "9. **String Repeater:**\n",
        "   - Define a function that takes a string and a number, then returns the string repeated that number of times.\n",
        "\n"
      ],
      "metadata": {
        "id": "kQlt7ezky1_Z"
      }
    },
    {
      "cell_type": "code",
      "source": [
        "#ex9\n",
        "\n",
        "def fun(st, num):\n",
        "    st *= num\n",
        "    return st\n",
        "print(fun(\"hello\", 8))"
      ],
      "metadata": {
        "id": "n23sdrE8y3an",
        "colab": {
          "base_uri": "https://localhost:8080/"
        },
        "outputId": "738fca0f-8f8b-4f05-d595-c8b396bc2c19"
      },
      "execution_count": null,
      "outputs": [
        {
          "output_type": "stream",
          "name": "stdout",
          "text": [
            "hellohellohellohellohellohellohellohello\n"
          ]
        }
      ]
    },
    {
      "cell_type": "markdown",
      "source": [
        "10. **List Average:**\n",
        "   - Write a function that calculates the average of a list of numbers.\n"
      ],
      "metadata": {
        "id": "PrcszXAay4e0"
      }
    },
    {
      "cell_type": "code",
      "source": [
        "#ex10\n",
        "alist = [97, 93, 93, 93, 95, 93, 79, 93]\n",
        "def avg(alist):\n",
        "  total = sum(alist)\n",
        "  average = total / len(alist)\n",
        "  return average\n",
        "\n",
        "print(avg(alist))\n",
        "\n"
      ],
      "metadata": {
        "id": "LSG5y_X-y54t",
        "colab": {
          "base_uri": "https://localhost:8080/"
        },
        "outputId": "fb4877c4-adec-44e3-816f-6f429a6c5b21"
      },
      "execution_count": null,
      "outputs": [
        {
          "output_type": "stream",
          "name": "stdout",
          "text": [
            "92.0\n"
          ]
        }
      ]
    }
  ]
}