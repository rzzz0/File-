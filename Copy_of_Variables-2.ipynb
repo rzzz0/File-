{
  "cells": [
    {
      "cell_type": "markdown",
      "metadata": {
        "id": "JiPTmgn93WM0"
      },
      "source": [
        "###Real-life analogy:\n",
        "\n",
        "\"Think of a locker in school or a gym. Each locker has a specific number, and inside, you can store your books, clothes, or other personal items. In programming, we have something similar called variables. Just like how you'd put your book in a locker and retrieve it later, in programming, we assign data to a variable and then use that variable to recall that data whenever we need it.\"\n",
        "\n",
        "### **Definition and Purpose of Variables in Programming**\n",
        "\n",
        "**Definition:**\n",
        "In computer programming, a variable is a storage location paired with an associated symbolic name, which contains some known or unknown quantity of information referred to as a value.\n",
        "\n",
        "**Purpose:**\n",
        "Variables serve as a fundamental concept in programming, allowing developers to:\n",
        "1. **Store Data:** Variables hold data that can be used and manipulated throughout a program.\n",
        "2. **Improve Readability:** By using descriptive variable names, code becomes more readable and understandable.\n",
        "3. **Facilitate Reuse:** Variables can be reused throughout different parts of a program, reducing redundancy.\n",
        "4. **Change Behavior:** By changing a variable's value, the behavior of a program can be altered without changing its structure.\n",
        "\n",
        "---\n",
        "\n",
        "### **Naming Conventions and Rules**\n",
        "\n",
        "**Naming Conventions:**\n",
        "1. **Descriptive Names:** Variables should be named in a way that describes their content or use (e.g., `user_age` instead of `ua`).\n",
        "2. **Camel Case:** Used mainly in languages like Java. E.g., `userName`.\n",
        "3. **Snake Case:** Common in Python. E.g., `user_name`.\n",
        "4. **Pascal Case:** Used for class names in many languages. E.g., `UserName`.\n",
        "\n",
        "**Rules:**\n",
        "1. Variable names must start with a letter (a-z, A-Z) or an underscore (_).\n",
        "2. Subsequent characters can be letters, numbers, or underscores.\n",
        "3. Variable names cannot be reserved words in the language (e.g., `if`, `else` in Python).\n",
        "4. Variable names should not contain spaces.\n",
        "5. Variable names are case-sensitive (`user` and `User` are different variables).\n",
        "\n",
        "---\n",
        "\n",
        "### **Assigning Values to Variables Using the Assignment Operator (=)**\n",
        "\n",
        "In most programming languages, the equals sign (`=`) is used as the assignment operator. It assigns the value on its right to the variable on its left.\n",
        "\n",
        "**Example:**\n",
        "```python\n",
        "age = 25\n",
        "name = \"John\"\n",
        "is_student = True\n",
        "```\n",
        "\n",
        "Here, the variable `age` is assigned a value of 25, the variable `name` is given the string \"John\", and the variable `is_student` is assigned a Boolean value of `True`.\n",
        "\n",
        "---\n",
        "\n",
        "### **Practice: Assign Various Values to Variables and Display Them**\n",
        "\n",
        "**Task:** Create and assign values to three different variables: an integer, a string, and a boolean. Then, display them.\n",
        "\n",
        "**Solution:**\n",
        "```python\n",
        "# Assigning values to variables\n",
        "my_age = 30\n",
        "my_name = \"Alice\"\n",
        "likes_coffee = True\n",
        "\n",
        "# Displaying the values\n",
        "print(\"My age is:\", my_age)\n",
        "print(\"My name is:\", my_name)\n",
        "print(\"Do I like coffee?\", likes_coffee)\n",
        "```\n",
        "\n",
        "When this program is run, it will display:\n",
        "```\n",
        "My age is: 30\n",
        "My name is: Alice\n",
        "Do I like coffee? True\n",
        "```\n",
        "\n",
        "---\n"
      ]
    },
    {
      "cell_type": "markdown",
      "metadata": {
        "id": "pBdwEexP57_C"
      },
      "source": [
        "# Exercise 1:\n",
        "\n",
        "Declare variables for today's temperature, humidity percentage, and chance of rain.\n",
        "\n",
        "Display a weather report: \"Today's temperature is [temperature]°C with a humidity of [humidity]%. Chance of rain: [chance of rain]%.\""
      ]
    },
    {
      "cell_type": "code",
      "source": [
        "temperature = \"20°C\"\n",
        "humidity='20%'\n",
        "chance_of_rain='100%'\n",
        "print(\"Today's temperature is\", temperature, 'with a humidity of', humidity, '. Chance of rain:', chance_of_rain)"
      ],
      "metadata": {
        "colab": {
          "base_uri": "https://localhost:8080/"
        },
        "id": "1m8xG6kc1L6l",
        "outputId": "56d00490-8a50-47af-8cb6-7613723211a1"
      },
      "execution_count": 18,
      "outputs": [
        {
          "output_type": "stream",
          "name": "stdout",
          "text": [
            "Today's temperature is 20°C with a humidity of 20% . Chance of rain: 100%\n"
          ]
        }
      ]
    },
    {
      "cell_type": "markdown",
      "metadata": {
        "id": "j3nER9kQ6QAL"
      },
      "source": [
        "# Exercise 2:\n",
        "\n",
        "Grocery Receipt:\n",
        "\n",
        "Pick three items you would buy from a grocery store.\n",
        "Declare variables for each item's name and price.\n",
        "\n",
        "Calculate and display the total bill.\n",
        "\n"
      ]
    },
    {
      "cell_type": "code",
      "execution_count": 17,
      "metadata": {
        "colab": {
          "base_uri": "https://localhost:8080/"
        },
        "id": "lSnQXtFM596U",
        "outputId": "7db2d3cb-9e96-4765-ed52-57d6a4383477"
      },
      "outputs": [
        {
          "output_type": "stream",
          "name": "stdout",
          "text": [
            "the total bill is: 6\n"
          ]
        }
      ],
      "source": [
        "bread = 2\n",
        "water = 2\n",
        "cookie = 2\n",
        "total=(bread+water+cookie)\n",
        "print('the total bill is:', total)"
      ]
    },
    {
      "cell_type": "code",
      "source": [
        "bread = 2\n",
        "water = 2\n",
        "cookie = 2\n",
        "total=(bread+water+cookie)\n",
        "print('the total bill is:', total)\n"
      ],
      "metadata": {
        "colab": {
          "base_uri": "https://localhost:8080/"
        },
        "id": "X7tSnTpf4_fy",
        "outputId": "409f8c86-c7ca-4111-a996-57ed021fe4bb"
      },
      "execution_count": 23,
      "outputs": [
        {
          "output_type": "stream",
          "name": "stdout",
          "text": [
            "the total bill is: 6\n"
          ]
        }
      ]
    }
  ],
  "metadata": {
    "colab": {
      "provenance": []
    },
    "kernelspec": {
      "display_name": "Python 3",
      "name": "python3"
    },
    "language_info": {
      "name": "python"
    }
  },
  "nbformat": 4,
  "nbformat_minor": 0
}